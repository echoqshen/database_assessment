{
 "cells": [
  {
   "cell_type": "code",
   "execution_count": 1,
   "id": "633eb736",
   "metadata": {},
   "outputs": [],
   "source": [
    "import pandas as pd\n",
    "import re"
   ]
  },
  {
   "cell_type": "code",
   "execution_count": 3,
   "id": "8c2cb1f2",
   "metadata": {},
   "outputs": [
    {
     "data": {
      "text/html": [
       "<div>\n",
       "<style scoped>\n",
       "    .dataframe tbody tr th:only-of-type {\n",
       "        vertical-align: middle;\n",
       "    }\n",
       "\n",
       "    .dataframe tbody tr th {\n",
       "        vertical-align: top;\n",
       "    }\n",
       "\n",
       "    .dataframe thead th {\n",
       "        text-align: right;\n",
       "    }\n",
       "</style>\n",
       "<table border=\"1\" class=\"dataframe\">\n",
       "  <thead>\n",
       "    <tr style=\"text-align: right;\">\n",
       "      <th></th>\n",
       "      <th>text</th>\n",
       "    </tr>\n",
       "  </thead>\n",
       "  <tbody>\n",
       "    <tr>\n",
       "      <th>0</th>\n",
       "      <td>DRACULA</td>\n",
       "    </tr>\n",
       "    <tr>\n",
       "      <th>1</th>\n",
       "      <td>DRACULA</td>\n",
       "    </tr>\n",
       "    <tr>\n",
       "      <th>2</th>\n",
       "      <td>_by_</td>\n",
       "    </tr>\n",
       "    <tr>\n",
       "      <th>3</th>\n",
       "      <td>Bram Stoker</td>\n",
       "    </tr>\n",
       "    <tr>\n",
       "      <th>4</th>\n",
       "      <td>[Illustration: colophon]</td>\n",
       "    </tr>\n",
       "    <tr>\n",
       "      <th>...</th>\n",
       "      <td>...</td>\n",
       "    </tr>\n",
       "    <tr>\n",
       "      <th>10618</th>\n",
       "      <td>proofs of so wild a story. Van Helsing summed ...</td>\n",
       "    </tr>\n",
       "    <tr>\n",
       "      <th>10619</th>\n",
       "      <td>our boy on his knee:--</td>\n",
       "    </tr>\n",
       "    <tr>\n",
       "      <th>10620</th>\n",
       "      <td>We want no proofs; we ask none to believe us! ...</td>\n",
       "    </tr>\n",
       "    <tr>\n",
       "      <th>10621</th>\n",
       "      <td>JONATHAN HARKER.</td>\n",
       "    </tr>\n",
       "    <tr>\n",
       "      <th>10622</th>\n",
       "      <td>THE END</td>\n",
       "    </tr>\n",
       "  </tbody>\n",
       "</table>\n",
       "<p>10623 rows × 1 columns</p>\n",
       "</div>"
      ],
      "text/plain": [
       "                                                    text\n",
       "0                                                DRACULA\n",
       "1                                                DRACULA\n",
       "2                                                   _by_\n",
       "3                                            Bram Stoker\n",
       "4                               [Illustration: colophon]\n",
       "...                                                  ...\n",
       "10618  proofs of so wild a story. Van Helsing summed ...\n",
       "10619                             our boy on his knee:--\n",
       "10620  We want no proofs; we ask none to believe us! ...\n",
       "10621                                   JONATHAN HARKER.\n",
       "10622                                            THE END\n",
       "\n",
       "[10623 rows x 1 columns]"
      ]
     },
     "execution_count": 3,
     "metadata": {},
     "output_type": "execute_result"
    }
   ],
   "source": [
    "dracula_df = pd.read_csv('dracula.txt', sep='\\n', header=None)\n",
    "dracula_df.columns = ['text']\n",
    "dracula_df"
   ]
  },
  {
   "cell_type": "code",
   "execution_count": 5,
   "id": "a17077a2",
   "metadata": {},
   "outputs": [
    {
     "data": {
      "text/plain": [
       "s          3\n",
       "sleep      3\n",
       "and        2\n",
       "in         2\n",
       "is         1\n",
       "live       1\n",
       "So         1\n",
       "of         1\n",
       "to         1\n",
       "These      1\n",
       "can        1\n",
       "baptism    1\n",
       "meant      1\n",
       "coming     1\n",
       "_Mem       1\n",
       "Why        1\n",
       "kind       1\n",
       "which      1\n",
       "was        1\n",
       "though     1\n",
       "when       1\n",
       "Name: 0, dtype: int64"
      ]
     },
     "execution_count": 5,
     "metadata": {},
     "output_type": "execute_result"
    }
   ],
   "source": [
    "# regular expression to find the most common word that follows “vampire” in the text\n",
    "p = \"vampire\\\\W+(\\\\w+)\"\n",
    "dracula_df['text'].str.extractall(p, flags=re.I)[0].value_counts()"
   ]
  },
  {
   "cell_type": "code",
   "execution_count": null,
   "id": "0c3dfc94",
   "metadata": {},
   "outputs": [],
   "source": [
    "# Q17-19\n",
    "from sqlalchemy.ext.automap import automap_base\n",
    "from sqlalchemy.orm import Session\n",
    "from sqlalchemy import create_engine\n",
    "\n",
    "from flask import Flask, jsonify\n",
    "\n",
    "engine = create_engine(\"sqlite:///titanic.sqlite\")\n",
    "Base = automap_base()\n",
    "Base.prepare(engine, reflect=True)\n",
    "\n",
    "Passenger = Base.classes.passenger\n",
    "\n",
    "app = Flask(__name__)\n",
    "\n",
    "@app.route(\"/\")\n",
    "def welcome():\n",
    "   \"\"\"List all available api routes.\"\"\"\n",
    "   return (\n",
    "       f\"Available Routes:<br/>\"\n",
    "       f\"/api/v1.0/names<br/>\"\n",
    "       f\"/api/v1.0/passengers\"\n",
    "   )\n",
    "\n",
    "@app.route(\"/api/v1.0/names\")\n",
    "def names():\n",
    "   \"\"\"Return a list of all passenger names\"\"\"\n",
    "   # Query all passengers\n",
    "   session = Session(engine)\n",
    "   results = session.query(Passenger.name).all()\n",
    "\n",
    "   # Convert list of tuples into normal list\n",
    "   all_names = list(np.ravel(results))\n",
    "\n",
    "   return jsonify(results)\n",
    "\n",
    "@app.route(\"/api/v1.0/passengers\")\n",
    "def passengers():\n",
    "   \"\"\"Return a list of passenger data including the name, age, and sex of each passenger\"\"\"\n",
    "   # Query all passengers\n",
    "   session = Session(engine)\n",
    "   results = session.query(Passenger.name, Passenger.age, Passenger.sex).all()\n",
    "\n",
    "   # Create a dictionary from the row data and append to a list of all_passengers\n",
    "   all_passengers = []\n",
    "   for name, age, sex in results:\n",
    "       passenger_dict = {}\n",
    "       passenger_dict[\"name\"] = name\n",
    "       passenger_dict[\"age\"] = age\n",
    "       passenger_dict[\"sex\"] = sex\n",
    "       all_passengers.append(passenger_dict)\n",
    "\n",
    "   ### Return list of all passenger data in JSON format ###\n",
    "\n",
    "if __name__ == '__main__':\n",
    "   app.run(debug=True)"
   ]
  },
  {
   "cell_type": "code",
   "execution_count": null,
   "id": "f0b090a6",
   "metadata": {},
   "outputs": [],
   "source": [
    "# Q14#"
   ]
  },
  {
   "cell_type": "code",
   "execution_count": 6,
   "id": "e987f426",
   "metadata": {},
   "outputs": [],
   "source": [
    "from sqlalchemy import create_engine\n",
    "import pandas as pd\n",
    "\n",
    "# Path to sqlite, THIS MAY NOT MATCH YOUR PATH\n",
    "database_path = \"C:/Users/eshen/Desktop/my working repo/Database assessment/Census_Data.sqlite\"\n",
    "\n",
    "# Create an engine that can talk to the database\n",
    "engine = create_engine(f\"sqlite:///{database_path}\")\n",
    "conn = engine.connect()"
   ]
  },
  {
   "cell_type": "code",
   "execution_count": null,
   "id": "339c94a8",
   "metadata": {},
   "outputs": [],
   "source": [
    "# use Pandas to import the Census_Data table into a DataFrame\n",
    "census_df=pd.read_table"
   ]
  },
  {
   "cell_type": "code",
   "execution_count": 7,
   "id": "7acb2a71",
   "metadata": {},
   "outputs": [
    {
     "ename": "NameError",
     "evalue": "name 'inspect' is not defined",
     "output_type": "error",
     "traceback": [
      "\u001b[1;31m---------------------------------------------------------------------------\u001b[0m",
      "\u001b[1;31mNameError\u001b[0m                                 Traceback (most recent call last)",
      "\u001b[1;32m<ipython-input-7-5f47fa6bed93>\u001b[0m in \u001b[0;36m<module>\u001b[1;34m\u001b[0m\n\u001b[1;32m----> 1\u001b[1;33m \u001b[0minspector\u001b[0m \u001b[1;33m=\u001b[0m \u001b[0minspect\u001b[0m\u001b[1;33m(\u001b[0m\u001b[0mengine\u001b[0m\u001b[1;33m)\u001b[0m\u001b[1;33m\u001b[0m\u001b[1;33m\u001b[0m\u001b[0m\n\u001b[0m",
      "\u001b[1;31mNameError\u001b[0m: name 'inspect' is not defined"
     ]
    }
   ],
   "source": [
    "data = engine.execute(\"SELECT * FROM dow\")\n",
    "\n",
    "for record in data:\n",
    "    print(record)"
   ]
  },
  {
   "cell_type": "code",
   "execution_count": null,
   "id": "288c7ea7",
   "metadata": {},
   "outputs": [],
   "source": [
    "from sqlalchemy.ext.automap import automap_base\n",
    "from sqlalchemy.orm import Session\n",
    "from sqlalchemy import create_engine\n",
    "\n",
    "from flask import Flask, jsonify\n",
    "\n",
    "engine = create_engine(\"sqlite:///titanic.sqlite\")\n",
    "Base = automap_base()\n",
    "Base.prepare(engine, reflect=True)\n",
    "\n",
    "Passenger = Base.classes.passenger\n",
    "\n",
    "app = Flask(__name__)\n",
    "\n",
    "@app.route(\"/\")\n",
    "def welcome():\n",
    "   \"\"\"List all available api routes.\"\"\"\n",
    "   return (\n",
    "       f\"Available Routes:<br/>\"\n",
    "       f\"/api/v1.0/names<br/>\"\n",
    "       f\"/api/v1.0/passengers\"\n",
    "   )\n",
    "\n",
    "### Create an endpoint for names ###\n",
    "\n",
    "if __name__ == '__main__':\n",
    "   app.run(debug=True)"
   ]
  }
 ],
 "metadata": {
  "kernelspec": {
   "display_name": "PythonData",
   "language": "python",
   "name": "pythondata"
  },
  "language_info": {
   "codemirror_mode": {
    "name": "ipython",
    "version": 3
   },
   "file_extension": ".py",
   "mimetype": "text/x-python",
   "name": "python",
   "nbconvert_exporter": "python",
   "pygments_lexer": "ipython3",
   "version": "3.7.10"
  }
 },
 "nbformat": 4,
 "nbformat_minor": 5
}
